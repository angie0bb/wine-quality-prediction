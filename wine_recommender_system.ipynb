{
 "cells": [
  {
   "cell_type": "code",
   "execution_count": 3,
   "metadata": {},
   "outputs": [
    {
     "name": "stderr",
     "output_type": "stream",
     "text": [
      "[nltk_data] Downloading package stopwords to\n",
      "[nltk_data]     C:\\Users\\PC\\AppData\\Roaming\\nltk_data...\n",
      "[nltk_data]   Package stopwords is already up-to-date!\n",
      "[nltk_data] Downloading package punkt to\n",
      "[nltk_data]     C:\\Users\\PC\\AppData\\Roaming\\nltk_data...\n",
      "[nltk_data]   Package punkt is already up-to-date!\n",
      "[nltk_data] Downloading package wordnet to\n",
      "[nltk_data]     C:\\Users\\PC\\AppData\\Roaming\\nltk_data...\n",
      "[nltk_data] Downloading package omw-1.4 to\n",
      "[nltk_data]     C:\\Users\\PC\\AppData\\Roaming\\nltk_data...\n"
     ]
    }
   ],
   "source": [
    "import pandas as pd\n",
    "import numpy as np\n",
    "from sklearn.feature_extraction.text import TfidfVectorizer\n",
    "from sklearn.metrics.pairwise import cosine_similarity\n",
    "import nltk\n",
    "nltk.download('stopwords')\n",
    "nltk.download('punkt')\n",
    "nltk.download('wordnet')\n",
    "nltk.download('omw-1.4')\n",
    "from nltk.corpus import stopwords\n",
    "from nltk.stem import WordNetLemmatizer\n",
    "from nltk.tokenize import word_tokenize\n",
    "import re\n",
    "import pickle\n",
    "\n",
    "from IPython.display import display, HTML\n",
    "import pandas as pd\n",
    "\n",
    "pd.set_option('display.max_colwidth', None)"
   ]
  },
  {
   "cell_type": "code",
   "execution_count": 4,
   "metadata": {},
   "outputs": [
    {
     "data": {
      "text/plain": [
       "(47673, 12)"
      ]
     },
     "execution_count": 4,
     "metadata": {},
     "output_type": "execute_result"
    }
   ],
   "source": [
    "wine_reviews = pd.read_csv('datasets\\winemag-data-130k-v2.csv').drop(['Unnamed: 0', 'region_2'], axis=1).dropna().drop_duplicates()\n",
    "wine_reviews.head()\n",
    "wine_reviews.shape"
   ]
  },
  {
   "cell_type": "code",
   "execution_count": 5,
   "metadata": {},
   "outputs": [
    {
     "data": {
      "text/html": [
       "<div>\n",
       "<style scoped>\n",
       "    .dataframe tbody tr th:only-of-type {\n",
       "        vertical-align: middle;\n",
       "    }\n",
       "\n",
       "    .dataframe tbody tr th {\n",
       "        vertical-align: top;\n",
       "    }\n",
       "\n",
       "    .dataframe thead th {\n",
       "        text-align: right;\n",
       "    }\n",
       "</style>\n",
       "<table border=\"1\" class=\"dataframe\">\n",
       "  <thead>\n",
       "    <tr style=\"text-align: right;\">\n",
       "      <th></th>\n",
       "      <th>index</th>\n",
       "      <th>country</th>\n",
       "      <th>description</th>\n",
       "      <th>designation</th>\n",
       "      <th>points</th>\n",
       "      <th>price</th>\n",
       "      <th>province</th>\n",
       "      <th>region_1</th>\n",
       "      <th>taster_name</th>\n",
       "      <th>taster_twitter_handle</th>\n",
       "      <th>title</th>\n",
       "      <th>variety</th>\n",
       "      <th>winery</th>\n",
       "    </tr>\n",
       "  </thead>\n",
       "  <tbody>\n",
       "    <tr>\n",
       "      <th>0</th>\n",
       "      <td>52223</td>\n",
       "      <td>US</td>\n",
       "      <td>Faint cranberry and incense aromas show on the nose of this bottling. The palate offers more flavors, including coffee, black tar, pomegranate and peppercorns.</td>\n",
       "      <td>Sierra Mar Vineyard</td>\n",
       "      <td>88</td>\n",
       "      <td>55.0</td>\n",
       "      <td>California</td>\n",
       "      <td>Santa Lucia Highlands</td>\n",
       "      <td>Matt Kettmann</td>\n",
       "      <td>@mattkettmann</td>\n",
       "      <td>Bernardus 2014 Sierra Mar Vineyard Pinot Noir (Santa Lucia Highlands)</td>\n",
       "      <td>Pinot Noir</td>\n",
       "      <td>Bernardus</td>\n",
       "    </tr>\n",
       "    <tr>\n",
       "      <th>1</th>\n",
       "      <td>94020</td>\n",
       "      <td>US</td>\n",
       "      <td>A reluctant nose slowly offers hard-to-tease aromas of blueberry, dark chocolate and loam. The palate also works to show its stuff, offering dried cherries and cedar. It's straight ahead and very drinkable, yet neither flashy nor complex.</td>\n",
       "      <td>Pear Valley Vineyard</td>\n",
       "      <td>85</td>\n",
       "      <td>25.0</td>\n",
       "      <td>California</td>\n",
       "      <td>Paso Robles</td>\n",
       "      <td>Matt Kettmann</td>\n",
       "      <td>@mattkettmann</td>\n",
       "      <td>Pear Valley 2010 Pear Valley Vineyard Cabernet Sauvignon (Paso Robles)</td>\n",
       "      <td>Cabernet Sauvignon</td>\n",
       "      <td>Pear Valley</td>\n",
       "    </tr>\n",
       "    <tr>\n",
       "      <th>2</th>\n",
       "      <td>63462</td>\n",
       "      <td>Italy</td>\n",
       "      <td>A blend of Cabernet Franc, Merlot, Cabernet Sauvignon, Petit Verdot, Sangiovese, Alicante and Syrah, this juicy wine opens with aromas of ripe plum, baking spice and a balsamic note. The concentrated palate doles out ripe black cherry, clove and licorice alongside fine-grained tannins.</td>\n",
       "      <td>Aria di Caiarossa</td>\n",
       "      <td>90</td>\n",
       "      <td>40.0</td>\n",
       "      <td>Tuscany</td>\n",
       "      <td>Toscana</td>\n",
       "      <td>Kerin O’Keefe</td>\n",
       "      <td>@kerinokeefe</td>\n",
       "      <td>Caiarossa 2012 Aria di Caiarossa Red (Toscana)</td>\n",
       "      <td>Red Blend</td>\n",
       "      <td>Caiarossa</td>\n",
       "    </tr>\n",
       "    <tr>\n",
       "      <th>3</th>\n",
       "      <td>108910</td>\n",
       "      <td>US</td>\n",
       "      <td>The aromas seem a bit muddled, with notes of jasmine and pear occasionally poking through and the alcohol showing itself. It's medium sweet (2.7% residual sugar) finishing a touch bitter.</td>\n",
       "      <td>Colter's Creek Estate</td>\n",
       "      <td>84</td>\n",
       "      <td>10.0</td>\n",
       "      <td>Idaho</td>\n",
       "      <td>Idaho</td>\n",
       "      <td>Sean P. Sullivan</td>\n",
       "      <td>@wawinereport</td>\n",
       "      <td>Colter's Creek 2011 Colter's Creek Estate Riesling (Idaho)</td>\n",
       "      <td>Riesling</td>\n",
       "      <td>Colter's Creek</td>\n",
       "    </tr>\n",
       "    <tr>\n",
       "      <th>4</th>\n",
       "      <td>4966</td>\n",
       "      <td>Spain</td>\n",
       "      <td>This is a really good showing for the Garnacha Blanca grape. The bouquet is fresh and not the least bit blowsy, with an emphasis on apple and pear aromas. The wine is plump, fruity and showing modest acidity, while flavors of apple and baking spices precede a finish that's easygoing. Drink now.</td>\n",
       "      <td>Els Ameliers</td>\n",
       "      <td>90</td>\n",
       "      <td>35.0</td>\n",
       "      <td>Catalonia</td>\n",
       "      <td>Terra Alta</td>\n",
       "      <td>Michael Schachner</td>\n",
       "      <td>@wineschach</td>\n",
       "      <td>Lafou 2011 Els Ameliers Garnacha Blanca (Terra Alta)</td>\n",
       "      <td>Garnacha Blanca</td>\n",
       "      <td>Lafou</td>\n",
       "    </tr>\n",
       "  </tbody>\n",
       "</table>\n",
       "</div>"
      ],
      "text/plain": [
       "    index country  \\\n",
       "0   52223      US   \n",
       "1   94020      US   \n",
       "2   63462   Italy   \n",
       "3  108910      US   \n",
       "4    4966   Spain   \n",
       "\n",
       "                                                                                                                                                                                                                                                                                               description  \\\n",
       "0                                                                                                                                          Faint cranberry and incense aromas show on the nose of this bottling. The palate offers more flavors, including coffee, black tar, pomegranate and peppercorns.   \n",
       "1                                                           A reluctant nose slowly offers hard-to-tease aromas of blueberry, dark chocolate and loam. The palate also works to show its stuff, offering dried cherries and cedar. It's straight ahead and very drinkable, yet neither flashy nor complex.   \n",
       "2           A blend of Cabernet Franc, Merlot, Cabernet Sauvignon, Petit Verdot, Sangiovese, Alicante and Syrah, this juicy wine opens with aromas of ripe plum, baking spice and a balsamic note. The concentrated palate doles out ripe black cherry, clove and licorice alongside fine-grained tannins.   \n",
       "3                                                                                                              The aromas seem a bit muddled, with notes of jasmine and pear occasionally poking through and the alcohol showing itself. It's medium sweet (2.7% residual sugar) finishing a touch bitter.   \n",
       "4  This is a really good showing for the Garnacha Blanca grape. The bouquet is fresh and not the least bit blowsy, with an emphasis on apple and pear aromas. The wine is plump, fruity and showing modest acidity, while flavors of apple and baking spices precede a finish that's easygoing. Drink now.   \n",
       "\n",
       "             designation  points  price    province               region_1  \\\n",
       "0    Sierra Mar Vineyard      88   55.0  California  Santa Lucia Highlands   \n",
       "1   Pear Valley Vineyard      85   25.0  California            Paso Robles   \n",
       "2      Aria di Caiarossa      90   40.0     Tuscany                Toscana   \n",
       "3  Colter's Creek Estate      84   10.0       Idaho                  Idaho   \n",
       "4           Els Ameliers      90   35.0   Catalonia             Terra Alta   \n",
       "\n",
       "         taster_name taster_twitter_handle  \\\n",
       "0      Matt Kettmann         @mattkettmann   \n",
       "1      Matt Kettmann         @mattkettmann   \n",
       "2      Kerin O’Keefe          @kerinokeefe   \n",
       "3   Sean P. Sullivan         @wawinereport   \n",
       "4  Michael Schachner           @wineschach   \n",
       "\n",
       "                                                                    title  \\\n",
       "0   Bernardus 2014 Sierra Mar Vineyard Pinot Noir (Santa Lucia Highlands)   \n",
       "1  Pear Valley 2010 Pear Valley Vineyard Cabernet Sauvignon (Paso Robles)   \n",
       "2                          Caiarossa 2012 Aria di Caiarossa Red (Toscana)   \n",
       "3              Colter's Creek 2011 Colter's Creek Estate Riesling (Idaho)   \n",
       "4                    Lafou 2011 Els Ameliers Garnacha Blanca (Terra Alta)   \n",
       "\n",
       "              variety          winery  \n",
       "0          Pinot Noir       Bernardus  \n",
       "1  Cabernet Sauvignon     Pear Valley  \n",
       "2           Red Blend       Caiarossa  \n",
       "3            Riesling  Colter's Creek  \n",
       "4     Garnacha Blanca           Lafou  "
      ]
     },
     "execution_count": 5,
     "metadata": {},
     "output_type": "execute_result"
    }
   ],
   "source": [
    "#for memory optimization\n",
    "wine_reviews_sampled = wine_reviews.sample(25000).reset_index()\n",
    "wine_reviews_sampled.head()"
   ]
  },
  {
   "cell_type": "code",
   "execution_count": 6,
   "metadata": {},
   "outputs": [],
   "source": [
    "stop_words = set(stopwords.words('english'))\n",
    "lemmatizer = WordNetLemmatizer()\n",
    "\n",
    "def preprocess_text(text):\n",
    "    # Remove non-alphabetic characters\n",
    "    text = re.sub('[^a-zA-Z]', ' ', text)\n",
    "    # Tokenize and convert to lowercase\n",
    "    tokens = word_tokenize(text.lower())\n",
    "    # Remove stopwords and lemmatize the words\n",
    "    processed_text = ' '.join([lemmatizer.lemmatize(word) for word in tokens if word not in stop_words])\n",
    "    return processed_text\n",
    "\n",
    "wine_reviews_sampled['processed_description'] = wine_reviews_sampled['description'].apply(preprocess_text)"
   ]
  },
  {
   "cell_type": "code",
   "execution_count": 7,
   "metadata": {},
   "outputs": [],
   "source": [
    "max_features = 700  # Adjust this value based on your available memory\n",
    "tfidf = TfidfVectorizer(max_features=max_features)\n",
    "description_matrix = tfidf.fit_transform(wine_reviews_sampled['processed_description'])"
   ]
  },
  {
   "cell_type": "code",
   "execution_count": 8,
   "metadata": {},
   "outputs": [],
   "source": [
    "similarity_matrix = cosine_similarity(description_matrix)"
   ]
  },
  {
   "cell_type": "code",
   "execution_count": 9,
   "metadata": {},
   "outputs": [],
   "source": [
    "def recommend_wines(wine_title, n_recommendations=5):\n",
    "    # Find the index of the wine with the given title\n",
    "    wine_index = wine_reviews_sampled[wine_reviews_sampled['title'] == wine_title].index[0]\n",
    "    \n",
    "    # Get similarity scores for the given wine\n",
    "    similarity_scores = list(enumerate(similarity_matrix[wine_index]))\n",
    "    # Sort the wines based on the similarity scores\n",
    "    similarity_scores = sorted(similarity_scores, key=lambda x: x[1], reverse=True)\n",
    "    # Get the indices of the most similar wines (excluding the input wine itself)\n",
    "    most_similar_indices = [score[0] for score in similarity_scores[1:n_recommendations+1]]\n",
    "    # Return the names of the most similar wines\n",
    "    return wine_reviews['title'].iloc[most_similar_indices]"
   ]
  },
  {
   "cell_type": "code",
   "execution_count": 10,
   "metadata": {},
   "outputs": [
    {
     "data": {
      "text/plain": [
       "0         Bernardus 2014 Sierra Mar Vineyard Pinot Noir (Santa Lucia Highlands)\n",
       "1        Pear Valley 2010 Pear Valley Vineyard Cabernet Sauvignon (Paso Robles)\n",
       "2                                Caiarossa 2012 Aria di Caiarossa Red (Toscana)\n",
       "3                    Colter's Creek 2011 Colter's Creek Estate Riesling (Idaho)\n",
       "4                          Lafou 2011 Els Ameliers Garnacha Blanca (Terra Alta)\n",
       "                                          ...                                  \n",
       "24995                 J. Bookwalter 2011 Protagonist Red (Columbia Valley (WA))\n",
       "24996                Drappier NV Brut Nature Zero Dosage Pinot Noir (Champagne)\n",
       "24997           Delectus 2012 Bear Crossing Cabernet Sauvignon (Knights Valley)\n",
       "24998                      Soos Creek 2012 Palisades Red (Columbia Valley (WA))\n",
       "24999                        Maison Bleue 2009 Soleil Roussanne (Yakima Valley)\n",
       "Name: title, Length: 25000, dtype: object"
      ]
     },
     "execution_count": 10,
     "metadata": {},
     "output_type": "execute_result"
    }
   ],
   "source": [
    "wine_reviews_sampled['title']"
   ]
  },
  {
   "cell_type": "code",
   "execution_count": 11,
   "metadata": {},
   "outputs": [
    {
     "data": {
      "text/plain": [
       "31237         Palmer 1998 Estate Chardonnay (North Fork of Long Island)\n",
       "57991    Château des Landes 2014 Cuvée Prestige  (Lussac Saint-Émilion)\n",
       "6312      Fenestra 2012 Semonnay Chardonnay-Semillon (Livermore Valley)\n",
       "31451                Castello di Amorosa 2015 Gioia Rosato (California)\n",
       "43455                      Tenuta Carretta 2010 Garassino  (Barbaresco)\n",
       "Name: title, dtype: object"
      ]
     },
     "metadata": {},
     "output_type": "display_data"
    }
   ],
   "source": [
    "wine_title = 'Condado de Oriza 2006 Roble  (Ribera del Duero)'  # You can search by wine title\n",
    "recommendations = recommend_wines(wine_title)\n",
    "display(recommendations)"
   ]
  },
  {
   "cell_type": "code",
   "execution_count": 12,
   "metadata": {},
   "outputs": [],
   "source": [
    "import pickle\n",
    "\n",
    "\n",
    "with open(\"web_app/wine_recommender.pkl\", \"wb\") as f:\n",
    "    pickle.dump((wine_reviews_sampled['title'], similarity_matrix), f)"
   ]
  }
 ],
 "metadata": {
  "kernelspec": {
   "display_name": "Python 3 (ipykernel)",
   "language": "python",
   "name": "python3"
  },
  "language_info": {
   "codemirror_mode": {
    "name": "ipython",
    "version": 3
   },
   "file_extension": ".py",
   "mimetype": "text/x-python",
   "name": "python",
   "nbconvert_exporter": "python",
   "pygments_lexer": "ipython3",
   "version": "3.9.13"
  },
  "vscode": {
   "interpreter": {
    "hash": "ad14541a3a9bbb1e690bcdad7542c5b94fc5d38b1f10e265e38c65295405fc23"
   }
  }
 },
 "nbformat": 4,
 "nbformat_minor": 2
}
